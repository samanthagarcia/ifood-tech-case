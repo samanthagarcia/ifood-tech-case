{
  "cells": [
    {
      "cell_type": "code",
      "execution_count": 1,
      "metadata": {
        "colab": {
          "base_uri": "https://localhost:8080/"
        },
        "id": "2qg3QxZUnkJl",
        "outputId": "bbfda229-6255-4688-df68-9d8c349e9f7a"
      },
      "outputs": [
        {
          "name": "stdout",
          "output_type": "stream",
          "text": [
            "Reading package lists... Done\n",
            "Building dependency tree... Done\n",
            "Reading state information... Done\n",
            "The following additional packages will be installed:\n",
            "  fonts-dejavu-core fonts-dejavu-extra libatk-wrapper-java\n",
            "  libatk-wrapper-java-jni libxt-dev libxtst6 libxxf86dga1 openjdk-11-jre\n",
            "  x11-utils\n",
            "Suggested packages:\n",
            "  libxt-doc openjdk-11-demo openjdk-11-source visualvm mesa-utils\n",
            "The following NEW packages will be installed:\n",
            "  fonts-dejavu-core fonts-dejavu-extra libatk-wrapper-java\n",
            "  libatk-wrapper-java-jni libxt-dev libxtst6 libxxf86dga1 openjdk-11-jdk\n",
            "  openjdk-11-jre x11-utils\n",
            "0 upgraded, 10 newly installed, 0 to remove and 35 not upgraded.\n",
            "Need to get 6,920 kB of archives.\n",
            "After this operation, 16.9 MB of additional disk space will be used.\n",
            "Get:1 http://archive.ubuntu.com/ubuntu jammy/main amd64 fonts-dejavu-core all 2.37-2build1 [1,041 kB]\n",
            "Get:2 http://archive.ubuntu.com/ubuntu jammy/main amd64 fonts-dejavu-extra all 2.37-2build1 [2,041 kB]\n",
            "Get:3 http://archive.ubuntu.com/ubuntu jammy/main amd64 libxtst6 amd64 2:1.2.3-1build4 [13.4 kB]\n",
            "Get:4 http://archive.ubuntu.com/ubuntu jammy/main amd64 libxxf86dga1 amd64 2:1.1.5-0ubuntu3 [12.6 kB]\n",
            "Get:5 http://archive.ubuntu.com/ubuntu jammy/main amd64 x11-utils amd64 7.7+5build2 [206 kB]\n",
            "Get:6 http://archive.ubuntu.com/ubuntu jammy/main amd64 libatk-wrapper-java all 0.38.0-5build1 [53.1 kB]\n",
            "Get:7 http://archive.ubuntu.com/ubuntu jammy/main amd64 libatk-wrapper-java-jni amd64 0.38.0-5build1 [49.0 kB]\n",
            "Get:8 http://archive.ubuntu.com/ubuntu jammy/main amd64 libxt-dev amd64 1:1.2.1-1 [396 kB]\n",
            "Get:9 http://archive.ubuntu.com/ubuntu jammy-updates/main amd64 openjdk-11-jre amd64 11.0.27+6~us1-0ubuntu1~22.04 [214 kB]\n",
            "Get:10 http://archive.ubuntu.com/ubuntu jammy-updates/main amd64 openjdk-11-jdk amd64 11.0.27+6~us1-0ubuntu1~22.04 [2,895 kB]\n",
            "Fetched 6,920 kB in 1s (4,696 kB/s)\n",
            "Selecting previously unselected package fonts-dejavu-core.\n",
            "(Reading database ... 126319 files and directories currently installed.)\n",
            "Preparing to unpack .../0-fonts-dejavu-core_2.37-2build1_all.deb ...\n",
            "Unpacking fonts-dejavu-core (2.37-2build1) ...\n",
            "Selecting previously unselected package fonts-dejavu-extra.\n",
            "Preparing to unpack .../1-fonts-dejavu-extra_2.37-2build1_all.deb ...\n",
            "Unpacking fonts-dejavu-extra (2.37-2build1) ...\n",
            "Selecting previously unselected package libxtst6:amd64.\n",
            "Preparing to unpack .../2-libxtst6_2%3a1.2.3-1build4_amd64.deb ...\n",
            "Unpacking libxtst6:amd64 (2:1.2.3-1build4) ...\n",
            "Selecting previously unselected package libxxf86dga1:amd64.\n",
            "Preparing to unpack .../3-libxxf86dga1_2%3a1.1.5-0ubuntu3_amd64.deb ...\n",
            "Unpacking libxxf86dga1:amd64 (2:1.1.5-0ubuntu3) ...\n",
            "Selecting previously unselected package x11-utils.\n",
            "Preparing to unpack .../4-x11-utils_7.7+5build2_amd64.deb ...\n",
            "Unpacking x11-utils (7.7+5build2) ...\n",
            "Selecting previously unselected package libatk-wrapper-java.\n",
            "Preparing to unpack .../5-libatk-wrapper-java_0.38.0-5build1_all.deb ...\n",
            "Unpacking libatk-wrapper-java (0.38.0-5build1) ...\n",
            "Selecting previously unselected package libatk-wrapper-java-jni:amd64.\n",
            "Preparing to unpack .../6-libatk-wrapper-java-jni_0.38.0-5build1_amd64.deb ...\n",
            "Unpacking libatk-wrapper-java-jni:amd64 (0.38.0-5build1) ...\n",
            "Selecting previously unselected package libxt-dev:amd64.\n",
            "Preparing to unpack .../7-libxt-dev_1%3a1.2.1-1_amd64.deb ...\n",
            "Unpacking libxt-dev:amd64 (1:1.2.1-1) ...\n",
            "Selecting previously unselected package openjdk-11-jre:amd64.\n",
            "Preparing to unpack .../8-openjdk-11-jre_11.0.27+6~us1-0ubuntu1~22.04_amd64.deb ...\n",
            "Unpacking openjdk-11-jre:amd64 (11.0.27+6~us1-0ubuntu1~22.04) ...\n",
            "Selecting previously unselected package openjdk-11-jdk:amd64.\n",
            "Preparing to unpack .../9-openjdk-11-jdk_11.0.27+6~us1-0ubuntu1~22.04_amd64.deb ...\n",
            "Unpacking openjdk-11-jdk:amd64 (11.0.27+6~us1-0ubuntu1~22.04) ...\n",
            "Setting up libxtst6:amd64 (2:1.2.3-1build4) ...\n",
            "Setting up libxxf86dga1:amd64 (2:1.1.5-0ubuntu3) ...\n",
            "Setting up openjdk-11-jre:amd64 (11.0.27+6~us1-0ubuntu1~22.04) ...\n",
            "Setting up libxt-dev:amd64 (1:1.2.1-1) ...\n",
            "Setting up fonts-dejavu-core (2.37-2build1) ...\n",
            "Setting up fonts-dejavu-extra (2.37-2build1) ...\n",
            "Setting up x11-utils (7.7+5build2) ...\n",
            "Setting up openjdk-11-jdk:amd64 (11.0.27+6~us1-0ubuntu1~22.04) ...\n",
            "update-alternatives: using /usr/lib/jvm/java-11-openjdk-amd64/bin/jconsole to provide /usr/bin/jconsole (jconsole) in auto mode\n",
            "Setting up libatk-wrapper-java (0.38.0-5build1) ...\n",
            "Setting up libatk-wrapper-java-jni:amd64 (0.38.0-5build1) ...\n",
            "Processing triggers for fontconfig (2.13.1-4.2ubuntu5) ...\n",
            "Processing triggers for hicolor-icon-theme (0.17-2) ...\n",
            "Processing triggers for libc-bin (2.35-0ubuntu3.8) ...\n",
            "/sbin/ldconfig.real: /usr/local/lib/libtbbmalloc.so.2 is not a symbolic link\n",
            "\n",
            "/sbin/ldconfig.real: /usr/local/lib/libur_adapter_opencl.so.0 is not a symbolic link\n",
            "\n",
            "/sbin/ldconfig.real: /usr/local/lib/libtbbbind_2_5.so.3 is not a symbolic link\n",
            "\n",
            "/sbin/ldconfig.real: /usr/local/lib/libur_adapter_level_zero.so.0 is not a symbolic link\n",
            "\n",
            "/sbin/ldconfig.real: /usr/local/lib/libtcm_debug.so.1 is not a symbolic link\n",
            "\n",
            "/sbin/ldconfig.real: /usr/local/lib/libur_loader.so.0 is not a symbolic link\n",
            "\n",
            "/sbin/ldconfig.real: /usr/local/lib/libtbbbind_2_0.so.3 is not a symbolic link\n",
            "\n",
            "/sbin/ldconfig.real: /usr/local/lib/libtbb.so.12 is not a symbolic link\n",
            "\n",
            "/sbin/ldconfig.real: /usr/local/lib/libtbbmalloc_proxy.so.2 is not a symbolic link\n",
            "\n",
            "/sbin/ldconfig.real: /usr/local/lib/libumf.so.0 is not a symbolic link\n",
            "\n",
            "/sbin/ldconfig.real: /usr/local/lib/libtbbbind.so.3 is not a symbolic link\n",
            "\n",
            "/sbin/ldconfig.real: /usr/local/lib/libtcm.so.1 is not a symbolic link\n",
            "\n",
            "/sbin/ldconfig.real: /usr/local/lib/libhwloc.so.15 is not a symbolic link\n",
            "\n",
            "Processing triggers for man-db (2.10.2-1) ...\n",
            "Processing triggers for mailcap (3.70+nmu1ubuntu1) ...\n",
            "Requirement already satisfied: pyspark in /usr/local/lib/python3.11/dist-packages (3.5.1)\n",
            "Requirement already satisfied: py4j==0.10.9.7 in /usr/local/lib/python3.11/dist-packages (from pyspark) (0.10.9.7)\n"
          ]
        }
      ],
      "source": [
        "!apt-get install openjdk-11-jdk -y\n",
        "!pip install pyspark\n",
        "\n",
        "import os\n",
        "os.environ[\"JAVA_HOME\"] = \"/usr/lib/jvm/java-11-openjdk-amd64\""
      ]
    },
    {
      "cell_type": "code",
      "execution_count": 6,
      "metadata": {
        "colab": {
          "base_uri": "https://localhost:8080/"
        },
        "id": "Qw66N8Bgn8Ul",
        "outputId": "ac997fee-1a3a-4b26-d6e1-8b0217e3ecf0"
      },
      "outputs": [
        {
          "name": "stdout",
          "output_type": "stream",
          "text": [
            "✅ PySpark configurado e SparkSession criada!\n"
          ]
        }
      ],
      "source": [
        "#SparkSession\n",
        "from pyspark.sql import SparkSession\n",
        "\n",
        "spark = SparkSession.builder \\\n",
        "    .appName(\"iFood_ABTest_Case\") \\\n",
        "    .getOrCreate()\n",
        "\n",
        "print(\"✅ PySpark configurado e SparkSession criada!\")"
      ]
    },
    {
      "cell_type": "code",
      "execution_count": 7,
      "metadata": {
        "colab": {
          "base_uri": "https://localhost:8080/"
        },
        "id": "vKNEuPDyoD0G",
        "outputId": "e86a3362-de5a-44b7-f608-3d74c11fbc61"
      },
      "outputs": [
        {
          "name": "stdout",
          "output_type": "stream",
          "text": [
            "--2025-06-17 20:46:34--  https://data-architect-test-source.s3-sa-east-1.amazonaws.com/consumer.csv.gz\n",
            "Resolving data-architect-test-source.s3-sa-east-1.amazonaws.com (data-architect-test-source.s3-sa-east-1.amazonaws.com)... 52.95.165.110, 3.5.232.123, 3.5.232.21, ...\n",
            "Connecting to data-architect-test-source.s3-sa-east-1.amazonaws.com (data-architect-test-source.s3-sa-east-1.amazonaws.com)|52.95.165.110|:443... connected.\n",
            "HTTP request sent, awaiting response... 200 OK\n",
            "Length: 48501207 (46M) [text/csv]\n",
            "Saving to: ‘consumer.csv.gz’\n",
            "\n",
            "consumer.csv.gz     100%[===================>]  46.25M  13.4MB/s    in 4.0s    \n",
            "\n",
            "2025-06-17 20:46:38 (11.7 MB/s) - ‘consumer.csv.gz’ saved [48501207/48501207]\n",
            "\n"
          ]
        }
      ],
      "source": [
        "#consumidores\n",
        "!wget https://data-architect-test-source.s3-sa-east-1.amazonaws.com/consumer.csv.gz -O consumer.csv.gz\n"
      ]
    },
    {
      "cell_type": "code",
      "execution_count": 8,
      "metadata": {
        "colab": {
          "base_uri": "https://localhost:8080/"
        },
        "id": "bZ-ctKKnpOii",
        "outputId": "7b5e4ffe-8807-4ed4-a477-3c17dacfb9ea"
      },
      "outputs": [
        {
          "name": "stdout",
          "output_type": "stream",
          "text": [
            "--2025-06-17 20:46:54--  https://data-architect-test-source.s3-sa-east-1.amazonaws.com/restaurant.csv.gz\n",
            "Resolving data-architect-test-source.s3-sa-east-1.amazonaws.com (data-architect-test-source.s3-sa-east-1.amazonaws.com)... 3.5.234.207, 3.5.232.137, 16.12.2.14, ...\n",
            "Connecting to data-architect-test-source.s3-sa-east-1.amazonaws.com (data-architect-test-source.s3-sa-east-1.amazonaws.com)|3.5.234.207|:443... connected.\n",
            "HTTP request sent, awaiting response... 200 OK\n",
            "Length: 403165 (394K) [text/csv]\n",
            "Saving to: ‘restaurant.csv.gz’\n",
            "\n",
            "restaurant.csv.gz   100%[===================>] 393.72K   576KB/s    in 0.7s    \n",
            "\n",
            "2025-06-17 20:46:56 (576 KB/s) - ‘restaurant.csv.gz’ saved [403165/403165]\n",
            "\n"
          ]
        }
      ],
      "source": [
        "#restaurantes\n",
        "!wget https://data-architect-test-source.s3-sa-east-1.amazonaws.com/restaurant.csv.gz -O restaurant.csv.gz"
      ]
    },
    {
      "cell_type": "code",
      "execution_count": 9,
      "metadata": {
        "colab": {
          "base_uri": "https://localhost:8080/"
        },
        "id": "cSCIWF-9pUMs",
        "outputId": "ba79e8bf-8adb-4dc3-a76f-01df6f747139"
      },
      "outputs": [
        {
          "name": "stdout",
          "output_type": "stream",
          "text": [
            "--2025-06-17 20:47:17--  https://data-architect-test-source.s3-sa-east-1.amazonaws.com/ab_test_ref.tar.gz\n",
            "Resolving data-architect-test-source.s3-sa-east-1.amazonaws.com (data-architect-test-source.s3-sa-east-1.amazonaws.com)... 16.12.1.62, 16.12.0.58, 3.5.232.102, ...\n",
            "Connecting to data-architect-test-source.s3-sa-east-1.amazonaws.com (data-architect-test-source.s3-sa-east-1.amazonaws.com)|16.12.1.62|:443... connected.\n",
            "HTTP request sent, awaiting response... 200 OK\n",
            "Length: 31225850 (30M) [application/x-gzip]\n",
            "Saving to: ‘ab_test_ref.tar.gz’\n",
            "\n",
            "ab_test_ref.tar.gz  100%[===================>]  29.78M  10.2MB/s    in 2.9s    \n",
            "\n",
            "2025-06-17 20:47:21 (10.2 MB/s) - ‘ab_test_ref.tar.gz’ saved [31225850/31225850]\n",
            "\n",
            "._ab_test_ref.csv\n",
            "tar: Ignoring unknown extended header keyword 'LIBARCHIVE.xattr.com.apple.quarantine'\n",
            "ab_test_ref.csv\n"
          ]
        }
      ],
      "source": [
        "#arquivo A/B test\n",
        "!wget https://data-architect-test-source.s3-sa-east-1.amazonaws.com/ab_test_ref.tar.gz -O ab_test_ref.tar.gz\n",
        "!tar -xzvf ab_test_ref.tar.gz"
      ]
    },
    {
      "cell_type": "code",
      "execution_count": 10,
      "metadata": {
        "colab": {
          "base_uri": "https://localhost:8080/"
        },
        "id": "Eyfftbz3pZlb",
        "outputId": "56eb0d22-243d-45f3-c569-e7b6253b3c84"
      },
      "outputs": [
        {
          "name": "stdout",
          "output_type": "stream",
          "text": [
            "--2025-06-17 20:47:40--  https://data-architect-test-source.s3-sa-east-1.amazonaws.com/order.json.gz\n",
            "Resolving data-architect-test-source.s3-sa-east-1.amazonaws.com (data-architect-test-source.s3-sa-east-1.amazonaws.com)... 3.5.232.230, 3.5.234.115, 3.5.234.11, ...\n",
            "Connecting to data-architect-test-source.s3-sa-east-1.amazonaws.com (data-architect-test-source.s3-sa-east-1.amazonaws.com)|3.5.232.230|:443... connected.\n",
            "HTTP request sent, awaiting response... 200 OK\n",
            "Length: 1610800545 (1.5G) [application/json]\n",
            "Saving to: ‘order.json.gz’\n",
            "\n",
            "order.json.gz       100%[===================>]   1.50G  17.4MB/s    in 87s     \n",
            "\n",
            "2025-06-17 20:49:07 (17.7 MB/s) - ‘order.json.gz’ saved [1610800545/1610800545]\n",
            "\n"
          ]
        }
      ],
      "source": [
        "#pedidos\n",
        "!wget https://data-architect-test-source.s3-sa-east-1.amazonaws.com/order.json.gz -O order.json.gz"
      ]
    },
    {
      "cell_type": "code",
      "execution_count": 16,
      "metadata": {
        "colab": {
          "base_uri": "https://localhost:8080/"
        },
        "id": "_QvUKYm_py_n",
        "outputId": "989e2729-b7db-4b6c-ec3c-38bc03df4c33"
      },
      "outputs": [
        {
          "name": "stdout",
          "output_type": "stream",
          "text": [
            "._ab_test_ref.csv\n",
            "ab_test_ref.csv\n"
          ]
        }
      ],
      "source": [
        "#consumidores\n",
        "consumers_df = spark.read.csv(\"consumer.csv.gz\", header=True, inferSchema=True)\n",
        "\n",
        "#restaurantes\n",
        "restaurants_df = spark.read.csv(\"restaurant.csv.gz\", header=True, inferSchema=True)\n",
        "\n",
        "#pedidos\n",
        "orders_df = spark.read.json(\"order.json.gz\")\n",
        "\n",
        "#A/B test\n",
        "import os\n",
        "[print(f) for f in os.listdir() if f.endswith(\".csv\")]\n",
        "abtest_df = spark.read.csv(\"ab_test_ref.csv\", header=True, inferSchema=True)"
      ]
    },
    {
      "cell_type": "code",
      "execution_count": 17,
      "metadata": {
        "id": "bL4bT5Vsq4c6"
      },
      "outputs": [],
      "source": [
        "from pyspark.sql.functions import col, countDistinct, avg, sum, count\n",
        "\n",
        "#agrupa por customer_id e calcula metricas dos pedidos\n",
        "user_orders_df = orders_df.groupBy(\"customer_id\").agg(\n",
        "    countDistinct(\"order_id\").alias(\"total_orders\"),\n",
        "    sum(\"order_total_amount\").alias(\"total_spent\"),\n",
        "    avg(\"order_total_amount\").alias(\"avg_order_value\"),\n",
        "    count(\"order_id\").alias(\"order_count\")\n",
        ")"
      ]
    },
    {
      "cell_type": "code",
      "execution_count": 19,
      "metadata": {
        "id": "U-9rsMcFrUVx"
      },
      "outputs": [],
      "source": [
        "#junta consumidores+grupo teste\n",
        "consumers_ab_df = consumers_df.join(abtest_df, on=\"customer_id\", how=\"inner\")\n",
        "\n",
        "#junta com as métricas de pedido\n",
        "full_df = consumers_ab_df.join(user_orders_df, on=\"customer_id\", how=\"left\")\n",
        "\n",
        "#preenche 0 para usuários que não fizeram pedidos (inves de null)\n",
        "from pyspark.sql.functions import lit, coalesce, when\n",
        "\n",
        "full_df = full_df.fillna({\n",
        "    \"total_orders\": 0,\n",
        "    \"total_spent\": 0.0,\n",
        "    \"avg_order_value\": 0.0,\n",
        "    \"order_count\": 0\n",
        "})\n",
        "\n",
        "#cria flag de retenção simples: 1 se fez 2+ pedidos\n",
        "full_df = full_df.withColumn(\"is_retained\", when(col(\"total_orders\") >= 2, 1).otherwise(0))"
      ]
    },
    {
      "cell_type": "code",
      "execution_count": 20,
      "metadata": {
        "colab": {
          "base_uri": "https://localhost:8080/"
        },
        "id": "6SF18lyMtSVV",
        "outputId": "bfc36d9d-a0de-4077-f907-04ad83363a3e"
      },
      "outputs": [
        {
          "name": "stdout",
          "output_type": "stream",
          "text": [
            "+--------------------+---------+------------+-----------+------------------+-----------+\n",
            "|         customer_id|is_target|total_orders|total_spent|   avg_order_value|is_retained|\n",
            "+--------------------+---------+------------+-----------+------------------+-----------+\n",
            "|00006f567cb362ba9...|   target|           5|      533.1|            106.62|          1|\n",
            "|0000c21984ae00cef...|  control|          23|    1539.92| 45.29176470588236|          1|\n",
            "|0001226e517517758...|   target|           2|      173.0|             43.25|          1|\n",
            "|00021cd56b6d6c980...|   target|           3|       79.7|15.940000000000001|          1|\n",
            "|00021f6dc15d10418...|   target|           2|      220.6| 73.53333333333333|          1|\n",
            "|0002287b123ac1afc...|   target|           1|      107.6|              53.8|          0|\n",
            "|00022b8c0c7af061f...|  control|           5|      115.8|              19.3|          1|\n",
            "|00024bc2f09ce5769...|  control|           1|     221.56|            110.78|          0|\n",
            "|00027035d16a4de43...|  control|           1|       81.0|              81.0|          0|\n",
            "|00029b26fb2121119...|   target|           1|       54.6|              54.6|          0|\n",
            "+--------------------+---------+------------+-----------+------------------+-----------+\n",
            "only showing top 10 rows\n",
            "\n"
          ]
        }
      ],
      "source": [
        "full_df.select(\"customer_id\", \"is_target\", \"total_orders\", \"total_spent\", \"avg_order_value\", \"is_retained\").show(10)"
      ]
    },
    {
      "cell_type": "code",
      "execution_count": 21,
      "metadata": {
        "id": "Fjv7TWR418JT"
      },
      "outputs": [],
      "source": [
        "#separando os dfs por grupo\n",
        "grupo_controle = full_df.filter(full_df.is_target == \"control\")\n",
        "grupo_teste = full_df.filter(full_df.is_target == \"target\")\n"
      ]
    },
    {
      "cell_type": "code",
      "execution_count": 22,
      "metadata": {
        "colab": {
          "base_uri": "https://localhost:8080/"
        },
        "id": "O9wyZp1H2EYa",
        "outputId": "0af9e848-8257-4b53-ec7b-a22d0498a15b"
      },
      "outputs": [
        {
          "name": "stdout",
          "output_type": "stream",
          "text": [
            "🎯 Ticket médio - Controle: R$48.01 | Teste: R$47.83\n",
            "🔁 Retenção - Controle: 47.63% | Teste: 57.62%\n",
            "💸 Total gasto - Controle: R$202.67 | Teste: R$228.77\n",
            "📦 Nº médio pedidos - Controle: 2.80 | Teste: 3.18\n"
          ]
        }
      ],
      "source": [
        "#indicadores\n",
        "\n",
        "from pyspark.sql.functions import avg\n",
        "\n",
        "#ticket medio\n",
        "controle_avg_ticket = grupo_controle.agg(avg(\"avg_order_value\")).first()[0]\n",
        "teste_avg_ticket = grupo_teste.agg(avg(\"avg_order_value\")).first()[0]\n",
        "\n",
        "#retenção media\n",
        "controle_retencao = grupo_controle.agg(avg(\"is_retained\")).first()[0]\n",
        "teste_retencao = grupo_teste.agg(avg(\"is_retained\")).first()[0]\n",
        "\n",
        "#total medio gasto\n",
        "controle_total = grupo_controle.agg(avg(\"total_spent\")).first()[0]\n",
        "teste_total = grupo_teste.agg(avg(\"total_spent\")).first()[0]\n",
        "\n",
        "#numero medio de pedidos\n",
        "controle_pedidos = grupo_controle.agg(avg(\"total_orders\")).first()[0]\n",
        "teste_pedidos = grupo_teste.agg(avg(\"total_orders\")).first()[0]\n",
        "\n",
        "print(f\"Ticket médio - Controle: R${controle_avg_ticket:.2f} - Teste: R${teste_avg_ticket:.2f}\")\n",
        "print(f\"Retenção - Controle: {controle_retencao*100:.2f}% - Teste: {teste_retencao*100:.2f}%\")\n",
        "print(f\"Total gasto - Controle: R${controle_total:.2f} - Teste: R${teste_total:.2f}\")\n",
        "print(f\"Nº médio pedidos - Controle: {controle_pedidos:.2f} - Teste: {teste_pedidos:.2f}\")"
      ]
    },
    {
      "cell_type": "code",
      "execution_count": 25,
      "metadata": {
        "id": "lGZuqgLvJXXG"
      },
      "outputs": [],
      "source": [
        "# converte pra pandar pra fazer teste estatistico\n",
        "controle_pd = grupo_controle.select(\"is_retained\", \"avg_order_value\", \"total_spent\").toPandas()\n",
        "teste_pd = grupo_teste.select(\"is_retained\", \"avg_order_value\", \"total_spent\").toPandas()"
      ]
    },
    {
      "cell_type": "code",
      "execution_count": 26,
      "metadata": {
        "colab": {
          "base_uri": "https://localhost:8080/"
        },
        "id": "stA3tiXzLdV2",
        "outputId": "09d04c99-18a6-4267-f99d-8a1d33f5ba7d"
      },
      "outputs": [
        {
          "name": "stdout",
          "output_type": "stream",
          "text": [
            "📊 Teste T - Ticket médio | p-valor: 0.4213 ❌ Não significativo\n"
          ]
        }
      ],
      "source": [
        "#testa se a diferença entre os grupos é significativa\n",
        "\n",
        "from scipy.stats import ttest_ind\n",
        "\n",
        "#teste de diferença no ticket medio\n",
        "t_stat, p_val = ttest_ind(controle_pd[\"avg_order_value\"].dropna(),\n",
        "                          teste_pd[\"avg_order_value\"].dropna(),\n",
        "                          equal_var=False)\n",
        "\n",
        "print(f\"Teste T - Ticket médio | p-valor: {p_val:.4f} {'Significativo' if p_val < 0.05 else 'Não significativo'}\")"
      ]
    },
    {
      "cell_type": "code",
      "execution_count": 27,
      "metadata": {
        "colab": {
          "base_uri": "https://localhost:8080/"
        },
        "id": "gjHfhrScLsgS",
        "outputId": "d77b67ab-8d10-460d-e237-a01ba169f99b"
      },
      "outputs": [
        {
          "name": "stdout",
          "output_type": "stream",
          "text": [
            "🧪 Teste T - Retenção | p-valor: 0.0000 ✅ Significativo\n"
          ]
        }
      ],
      "source": [
        "#teste de significância da taxa de retenção\n",
        "\n",
        "t_stat_retencao, p_val_retencao = ttest_ind(\n",
        "    controle_pd[\"is_retained\"],\n",
        "    teste_pd[\"is_retained\"],\n",
        "    equal_var=False\n",
        ")\n",
        "\n",
        "print(f\"Teste T - Retenção | p-valor: {p_val_retencao:.4f} {'Significativo' if p_val_retencao < 0.05 else 'Não significativo'}\")"
      ]
    },
    {
      "cell_type": "code",
      "execution_count": 29,
      "metadata": {
        "id": "B62nUuhCN93b"
      },
      "outputs": [],
      "source": [
        "#segmentacao ativo/inativo\n",
        "from pyspark.sql.functions import when\n",
        "\n",
        "full_df = full_df.withColumn(\n",
        "    \"segmento_atividade\",\n",
        "    when(col(\"total_orders\") == 0, \"inativo\").otherwise(\"ativo\")\n",
        ")"
      ]
    },
    {
      "cell_type": "code",
      "execution_count": 30,
      "metadata": {
        "id": "4kkY116POFfq"
      },
      "outputs": [],
      "source": [
        "#segmentacao de ticket alto/baixo\n",
        "ticket_median = full_df.select(\"avg_order_value\").toPandas()[\"avg_order_value\"].median()\n",
        "\n",
        "full_df = full_df.withColumn(\n",
        "    \"segmento_ticket\",\n",
        "    when(col(\"avg_order_value\") >= ticket_median, \"ticket_alto\").otherwise(\"ticket_baixo\")\n",
        ")"
      ]
    },
    {
      "cell_type": "code",
      "execution_count": 32,
      "metadata": {
        "colab": {
          "base_uri": "https://localhost:8080/"
        },
        "id": "-3LsQrV_Ovfx",
        "outputId": "8615fbbb-74da-409d-a4bd-5b1c2b8d5702"
      },
      "outputs": [
        {
          "name": "stdout",
          "output_type": "stream",
          "text": [
            "+------------------+---------+------------------+------------------+-----------------+\n",
            "|segmento_atividade|is_target|    retencao_media|       gasto_medio|   pedidos_medios|\n",
            "+------------------+---------+------------------+------------------+-----------------+\n",
            "|             ativo|   target| 0.576159356400437| 228.7713499931779|3.177162625100114|\n",
            "|             ativo|  control|0.4762591804402172|202.67395868076323|2.803428289212653|\n",
            "+------------------+---------+------------------+------------------+-----------------+\n",
            "\n"
          ]
        }
      ],
      "source": [
        "#retençao por segmento de atividade\n",
        "\n",
        "full_df.groupBy(\"segmento_atividade\", \"is_target\").agg(\n",
        "    avg(\"is_retained\").alias(\"retencao_media\"),\n",
        "    avg(\"total_spent\").alias(\"gasto_medio\"),\n",
        "    avg(\"total_orders\").alias(\"pedidos_medios\")\n",
        ").show()"
      ]
    },
    {
      "cell_type": "code",
      "execution_count": 33,
      "metadata": {
        "colab": {
          "base_uri": "https://localhost:8080/"
        },
        "id": "zrtVav1pPmlc",
        "outputId": "2895e99f-6394-4a48-8f0a-5aa2da3df67b"
      },
      "outputs": [
        {
          "name": "stdout",
          "output_type": "stream",
          "text": [
            "+---------------+---------+------------------+------------------+------------------+\n",
            "|segmento_ticket|is_target|    retencao_media|       gasto_medio|    pedidos_medios|\n",
            "+---------------+---------+------------------+------------------+------------------+\n",
            "|    ticket_alto|   target|0.5946436697509659| 319.2006203099988| 3.278162447690345|\n",
            "|    ticket_alto|  control|0.4969688887407136|285.45441119762904|  2.90403796251535|\n",
            "|   ticket_baixo|   target|0.5574624205201334|137.30188414103168| 3.075001015356706|\n",
            "|   ticket_baixo|  control|0.4556044467596954| 120.1132496702578|2.7030856876849585|\n",
            "+---------------+---------+------------------+------------------+------------------+\n",
            "\n"
          ]
        }
      ],
      "source": [
        "#retenção por segmento de ticket\n",
        "\n",
        "full_df.groupBy(\"segmento_ticket\", \"is_target\").agg(\n",
        "    avg(\"is_retained\").alias(\"retencao_media\"),\n",
        "    avg(\"total_spent\").alias(\"gasto_medio\"),\n",
        "    avg(\"total_orders\").alias(\"pedidos_medios\")\n",
        ").show()"
      ]
    }
  ],
  "metadata": {
    "colab": {
      "provenance": []
    },
    "kernelspec": {
      "display_name": "Python 3",
      "name": "python3"
    },
    "language_info": {
      "name": "python"
    }
  },
  "nbformat": 4,
  "nbformat_minor": 0
}
